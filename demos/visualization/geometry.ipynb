{
 "cells": [
  {
   "cell_type": "code",
   "execution_count": null,
   "id": "ac279023-74b5-40a4-9a42-3aa5f14796ac",
   "metadata": {
    "editable": true,
    "slideshow": {
     "slide_type": ""
    },
    "tags": []
   },
   "outputs": [],
   "source": [
    "from qlbm.infra import CollisionlessResult\n",
    "from qlbm.lattice import CollisionlessLattice\n",
    "from qlbm.tools.utils import create_directory_and_parents"
   ]
  },
  {
   "cell_type": "code",
   "execution_count": null,
   "id": "c29fa343-d6a8-4254-b547-f147f5a331c1",
   "metadata": {},
   "outputs": [],
   "source": [
    "lattice_dict_2d = {\n",
    "  \"lattice\": {\n",
    "    \"dim\": {\n",
    "      \"x\": 32,\n",
    "      \"y\": 32\n",
    "    },\n",
    "    \"velocities\": {\n",
    "      \"x\": 4,\n",
    "      \"y\": 4\n",
    "    }\n",
    "  },\n",
    "  \"geometry\": [\n",
    "    {\n",
    "      \"x\": [18, 19],\n",
    "      \"y\": [7, 14],\n",
    "      \"boundary\": \"specular\"\n",
    "    },\n",
    "    {\n",
    "      \"x\": [18, 19],\n",
    "      \"y\": [19, 26],\n",
    "      \"boundary\": \"specular\"\n",
    "    },\n",
    "    {\n",
    "      \"x\": [26, 27],\n",
    "      \"y\": [19, 26],\n",
    "      \"boundary\": \"specular\"\n",
    "    },\n",
    "    {\n",
    "      \"x\": [26, 27],\n",
    "      \"y\": [7, 14],\n",
    "      \"boundary\": \"specular\"\n",
    "    },\n",
    "    {\n",
    "      \"x\": [20, 25],\n",
    "      \"y\": [4, 5],\n",
    "      \"boundary\": \"specular\"\n",
    "    },\n",
    "    {\n",
    "      \"x\": [20, 25],\n",
    "      \"y\": [16, 17],\n",
    "      \"boundary\": \"specular\"\n",
    "    },\n",
    "    {\n",
    "      \"x\": [20, 25],\n",
    "      \"y\": [28, 29],\n",
    "      \"boundary\": \"specular\"\n",
    "    }\n",
    "  ]\n",
    "}"
   ]
  },
  {
   "cell_type": "code",
   "execution_count": null,
   "id": "19d967ef-ff73-4474-91b0-a51d4d90b03a",
   "metadata": {},
   "outputs": [],
   "source": [
    "lattice_2d = CollisionlessLattice(lattice_dict_2d)"
   ]
  },
  {
   "cell_type": "code",
   "execution_count": null,
   "id": "2236ec6c-fe42-4b56-9160-064e1b43f1fa",
   "metadata": {},
   "outputs": [],
   "source": [
    "lattice_dict_3d = {\n",
    "  \"lattice\": {\n",
    "    \"dim\": {\n",
    "      \"x\": 16,\n",
    "      \"y\": 128,\n",
    "      \"z\": 16\n",
    "    },\n",
    "    \"velocities\": {\n",
    "      \"x\": 4,\n",
    "      \"y\": 4,\n",
    "      \"z\": 4\n",
    "    }\n",
    "  },\n",
    "  \"geometry\": [\n",
    "    {\n",
    "      \"x\": [10, 13],\n",
    "      \"y\": [6, 88],\n",
    "      \"z\": [10, 13],\n",
    "      \"boundary\": \"specular\"\n",
    "    }\n",
    "  ]\n",
    "}"
   ]
  },
  {
   "cell_type": "code",
   "execution_count": null,
   "id": "6eaba11f-0fb4-456a-96f3-59d4aeb7d852",
   "metadata": {},
   "outputs": [],
   "source": [
    "lattice_3d = CollisionlessLattice(lattice_dict_3d)"
   ]
  },
  {
   "cell_type": "code",
   "execution_count": null,
   "id": "42ffb0e7-a119-40aa-b11b-05afc14ce06a",
   "metadata": {},
   "outputs": [],
   "source": [
    "# lattice_2d = CollisinlessLattice(\"demos/lattices/2d_32x32_7_obstacle.json\")\n",
    "# lattice_3d = CollisionlessLattice(\"demos/lattices/3d_16x16x16_1_obstacle.json\")\n",
    "\n",
    "root_directory_2d = \"qlbm-output/visualization-geometry-2d\"\n",
    "root_directory_3d = \"qlbm-output/visualization-geometry-3d\"\n",
    "create_directory_and_parents(root_directory_2d)\n",
    "create_directory_and_parents(root_directory_3d)\n",
    "\n",
    "# Will output seven 2D stl files under `qlbm-output/visualization-components-2d/paraview`\n",
    "CollisionlessResult(lattice_2d, root_directory_2d).visualize_geometry()\n",
    "\n",
    "# Will output one 3D stl files under `qlbm-output/visualization-components-3d/paraview`\n",
    "CollisionlessResult(lattice_3d, root_directory_3d).visualize_geometry()"
   ]
  },
  {
   "cell_type": "code",
   "execution_count": null,
   "id": "47430ebc-63de-4e5c-9773-bc2d06408715",
   "metadata": {},
   "outputs": [],
   "source": []
  },
  {
   "cell_type": "code",
   "execution_count": null,
   "id": "7df521d3-833b-478a-83a6-b746afdb6c2c",
   "metadata": {},
   "outputs": [],
   "source": []
  },
  {
   "cell_type": "code",
   "execution_count": null,
   "id": "f28b3225-35a3-4137-a126-20e74abf19f5",
   "metadata": {},
   "outputs": [],
   "source": []
  }
 ],
 "metadata": {
  "kernelspec": {
   "display_name": "Python 3 (ipykernel)",
   "language": "python",
   "name": "python3"
  },
  "language_info": {
   "codemirror_mode": {
    "name": "ipython",
    "version": 3
   },
   "file_extension": ".py",
   "mimetype": "text/x-python",
   "name": "python",
   "nbconvert_exporter": "python",
   "pygments_lexer": "ipython3",
   "version": "3.11.8"
  }
 },
 "nbformat": 4,
 "nbformat_minor": 5
}
