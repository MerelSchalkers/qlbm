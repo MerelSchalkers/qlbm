{
 "cells": [
  {
   "cell_type": "code",
   "execution_count": null,
   "id": "ca7a55e2-5729-4a0c-b1bc-19ace7be8100",
   "metadata": {},
   "outputs": [],
   "source": [
    "from qlbm.components import (\n",
    "    CQLBM,\n",
    "    CollisionlessStreamingOperator,\n",
    "    ControlledIncrementer,\n",
    "    SpecularReflectionOperator,\n",
    "    SpeedSensitivePhaseShift,\n",
    ")\n",
    "from qlbm.lattice import CollisionlessLattice\n",
    "from qlbm.tools.utils import create_directory_and_parents"
   ]
  },
  {
   "cell_type": "code",
   "execution_count": null,
   "id": "af382a1b-0b4f-433b-b782-9a051caeea72",
   "metadata": {},
   "outputs": [],
   "source": [
    "if __name__ == \"__main__\":\n",
    "    root_directory = \"qlbm-output/visualization_components\"\n",
    "    create_directory_and_parents(root_directory)\n",
    "    # This is the lattice based on which we build operators and algorithms\n",
    "    example_lattice = CollisionlessLattice(\"demos/lattices/2d_8x8_1_obstacle.json\")\n",
    "\n",
    "    speed_shift_primitive: SpeedSensitivePhaseShift = SpeedSensitivePhaseShift(\n",
    "        4, 2, True\n",
    "    )\n",
    "\n",
    "    # You can draw circuits in Qiskit's ASCII art format\n",
    "    speed_shift_primitive.draw(\"text\", f\"{root_directory}/phase_shift.txt\")\n",
    "\n",
    "    # Also through Qiskit's Matplotlib interface\n",
    "    speed_shift_primitive.draw(\"mpl\", f\"{root_directory}/phase_shift.pdf\")\n",
    "\n",
    "    # Can also export directly to Latex source\n",
    "    speed_shift_primitive.draw(\"latex_source\", f\"{root_directory}/phase_shift.tex\")\n",
    "\n",
    "    # All primitives can be drawn to the same interface\n",
    "    ControlledIncrementer(example_lattice, reflection=False).draw(\n",
    "        \"mpl\", f\"{root_directory}/controlled_incrementer.pdf\"\n",
    "    )\n",
    "\n",
    "    # All operators can be drawn the same way\n",
    "    CollisionlessStreamingOperator(example_lattice, [0, 2, 3]).draw(\n",
    "        \"mpl\", f\"{root_directory}/streaming.pdf\"\n",
    "    )\n",
    "    SpecularReflectionOperator(\n",
    "        example_lattice, example_lattice.blocks[\"bounceback\"]\n",
    "    ).draw(\"mpl\", f\"{root_directory}/specular_reflection.pdf\")\n",
    "\n",
    "    # As can entire algorithms\n",
    "    CQLBM(example_lattice).draw(\"mpl\", f\"{root_directory}/collisionless_lbm.pdf\")\n"
   ]
  },
  {
   "cell_type": "code",
   "execution_count": null,
   "id": "602edcbd-0257-45ce-a578-53def319d6ef",
   "metadata": {},
   "outputs": [],
   "source": []
  },
  {
   "cell_type": "code",
   "execution_count": null,
   "id": "8cebb5f7-7ca8-4a17-9239-58ad48890efb",
   "metadata": {},
   "outputs": [],
   "source": []
  },
  {
   "cell_type": "code",
   "execution_count": null,
   "id": "62f32378-95b2-4928-ad6b-e922026e8503",
   "metadata": {},
   "outputs": [],
   "source": []
  },
  {
   "cell_type": "code",
   "execution_count": null,
   "id": "49b19978-846c-405e-ba5f-181b0ef9b05d",
   "metadata": {},
   "outputs": [],
   "source": []
  }
 ],
 "metadata": {
  "kernelspec": {
   "display_name": "Python 3 (ipykernel)",
   "language": "python",
   "name": "python3"
  },
  "language_info": {
   "codemirror_mode": {
    "name": "ipython",
    "version": 3
   },
   "file_extension": ".py",
   "mimetype": "text/x-python",
   "name": "python",
   "nbconvert_exporter": "python",
   "pygments_lexer": "ipython3",
   "version": "3.11.8"
  }
 },
 "nbformat": 4,
 "nbformat_minor": 5
}
