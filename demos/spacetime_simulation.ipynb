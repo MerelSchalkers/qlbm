{
 "cells": [
  {
   "cell_type": "code",
   "execution_count": null,
   "id": "439012c1-a986-4d1d-8875-b12d80859bb6",
   "metadata": {},
   "outputs": [],
   "source": [
    "from qiskit_aer import AerSimulator\n",
    "\n",
    "from qlbm.components import EmptyPrimitive\n",
    "from qlbm.components.spacetime import (\n",
    "    SpaceTimeGridVelocityMeasurement,\n",
    "    SpaceTimeInitialConditions,\n",
    "    SpaceTimeQLBM,\n",
    ")\n",
    "from qlbm.infra import QiskitRunner, SimulationConfig\n",
    "from qlbm.lattice import SpaceTimeLattice\n",
    "from qlbm.tools.utils import create_directory_and_parents"
   ]
  },
  {
   "cell_type": "code",
   "execution_count": null,
   "id": "5773ddbc-de7e-48f3-93ff-cd60655090fe",
   "metadata": {},
   "outputs": [],
   "source": [
    "# Number of shots to simulate for each timestep when running the circuit\n",
    "num_shots = 2**10\n",
    "# Number of time steps to simulate\n",
    "num_steps = 5"
   ]
  },
  {
   "cell_type": "code",
   "execution_count": null,
   "id": "1034390b-b23f-4f98-8912-9da66b86b4f4",
   "metadata": {},
   "outputs": [],
   "source": [
    "# Load example with mixed boundary conditions and create output folder\n",
    "lattice_file = \"lattices/2d_4x8_0_obstacle_q4.json\"\n",
    "lattice_name = lattice_file.split(\"/\")[-1].split(\".\")[0].replace(\"_\", \"-\")\n",
    "output_dir = f\"qlbm-output/spacetime-{lattice_name}-qiskit\"\n",
    "create_directory_and_parents(output_dir)\n",
    "\n",
    "# Create lattice and corresponding circuit\n",
    "lattice = SpaceTimeLattice(1, lattice_file)\n",
    "space_time_circuit = SpaceTimeQLBM(lattice)"
   ]
  },
  {
   "cell_type": "code",
   "execution_count": null,
   "id": "2b4c005f-54bb-4a48-bd71-1d7485500b2a",
   "metadata": {},
   "outputs": [],
   "source": [
    "# Draw circuit for inspection\n",
    "space_time_circuit.draw('mpl', 'spacetime.pdf')"
   ]
  },
  {
   "cell_type": "code",
   "execution_count": null,
   "id": "2f271251-5d3f-45b3-a762-e2eed2d0a163",
   "metadata": {},
   "outputs": [],
   "source": [
    "# Create simulation configuration object\n",
    "cfg = SimulationConfig(\n",
    "    initial_conditions=SpaceTimeInitialConditions(\n",
    "        lattice, grid_data=[((1, 5), (True, True, True, True))]\n",
    "    ),\n",
    "    algorithm=SpaceTimeQLBM(lattice),\n",
    "    postprocessing=EmptyPrimitive(lattice),\n",
    "    measurement=SpaceTimeGridVelocityMeasurement(lattice),\n",
    "    target_platform=\"QISKIT\",\n",
    "    compiler_platform=\"QISKIT\",\n",
    "    optimization_level=0,\n",
    "    statevector_sampling=False,\n",
    "    execution_backend=AerSimulator(method=\"statevector\"),\n",
    "    sampling_backend=AerSimulator(method=\"statevector\"),\n",
    ")\n",
    "\n",
    "cfg.prepare_for_simulation()\n",
    "# Create a runner object to simulate the circuit\n",
    "runner = QiskitRunner(\n",
    "    cfg,\n",
    "    lattice,\n",
    ")\n",
    "\n",
    "# Simulate the circuits using both snapshots and sampling\n",
    "runner.run(\n",
    "    num_steps,  # Number of time steps\n",
    "    num_shots,  # Number of shots per time step\n",
    "    output_dir,\n",
    "    statevector_snapshots=False,\n",
    ")\n"
   ]
  },
  {
   "cell_type": "code",
   "execution_count": null,
   "id": "478892ed-9f71-49a0-9e5b-cc9ac9a3b9e5",
   "metadata": {},
   "outputs": [],
   "source": []
  },
  {
   "cell_type": "code",
   "execution_count": null,
   "id": "d9d0a944-076a-4ece-b641-1ffdcca7c8ec",
   "metadata": {},
   "outputs": [],
   "source": []
  }
 ],
 "metadata": {
  "kernelspec": {
   "display_name": "Python 3 (ipykernel)",
   "language": "python",
   "name": "python3"
  },
  "language_info": {
   "codemirror_mode": {
    "name": "ipython",
    "version": 3
   },
   "file_extension": ".py",
   "mimetype": "text/x-python",
   "name": "python",
   "nbconvert_exporter": "python",
   "pygments_lexer": "ipython3",
   "version": "3.11.8"
  }
 },
 "nbformat": 4,
 "nbformat_minor": 5
}
